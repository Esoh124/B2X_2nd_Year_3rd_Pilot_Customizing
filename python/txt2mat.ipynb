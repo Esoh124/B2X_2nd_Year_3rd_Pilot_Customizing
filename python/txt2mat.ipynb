{
 "cells": [
  {
   "cell_type": "markdown",
   "id": "5b1a6f55",
   "metadata": {},
   "source": [
    "# pilot test3\n",
    "## - main protocol test\n",
    "## - 32ch\n",
    "## - ch1: empty, ch33: empty --> 둘다 삭제\n",
    "## - txt2mat\n",
    "\n",
    "### 20220126 작성 시작"
   ]
  },
  {
   "cell_type": "code",
   "execution_count": 1,
   "id": "5ad954b6",
   "metadata": {},
   "outputs": [],
   "source": [
    "import os \n",
    "import numpy as np\n",
    "import natsort\n",
    "import pandas as pd\n",
    "from tqdm.notebook import tqdm, trange\n",
    "import scipy.io as spio\n",
    "%matplotlib inline"
   ]
  },
  {
   "cell_type": "code",
   "execution_count": 2,
   "id": "e8e28216",
   "metadata": {
    "scrolled": true
   },
   "outputs": [
    {
     "data": {
      "text/plain": [
       "'E:\\\\B2X\\\\2차년도\\\\3차 pilot\\\\subject_data'"
      ]
     },
     "execution_count": 2,
     "metadata": {},
     "output_type": "execute_result"
    }
   ],
   "source": [
    "default_path = 'E:\\\\B2X\\\\2차년도\\\\3차 pilot\\\\subject_data'\n",
    "default_path"
   ]
  },
  {
   "cell_type": "markdown",
   "id": "75c376a1",
   "metadata": {},
   "source": [
    "## subject list 확보"
   ]
  },
  {
   "cell_type": "code",
   "execution_count": 3,
   "id": "ba7b33b2",
   "metadata": {},
   "outputs": [],
   "source": [
    "def OnlyFolder(path):\n",
    "    # return only folder, not file\n",
    "    # path: default_path which contains subject folders\n",
    "    \n",
    "    dir_list = os.listdir(path) # get all directory below the path\n",
    "    output = []\n",
    "    for i in range(len(dir_list)):\n",
    "        temp_path = os.path.join(path, dir_list[i])\n",
    "        if os.path.isdir(temp_path) == True:\n",
    "            output.append(dir_list[i])\n",
    "    return output"
   ]
  },
  {
   "cell_type": "code",
   "execution_count": 4,
   "id": "48b6cf80",
   "metadata": {},
   "outputs": [
    {
     "data": {
      "text/plain": [
       "['01_KDH',\n",
       " '02_HHB',\n",
       " '03_PSR',\n",
       " '04_CJK',\n",
       " '05_CKM',\n",
       " '06_KDH',\n",
       " '07_PSR',\n",
       " '08_HHB',\n",
       " '09_CKM',\n",
       " '10_CSJ',\n",
       " '11_KMS',\n",
       " '12_CJK',\n",
       " '13_CSJ',\n",
       " '14_KMS',\n",
       " '15_LJH',\n",
       " '16_PBJ',\n",
       " '17_PBJ',\n",
       " '18_SYH',\n",
       " '19_SYH',\n",
       " '20_LJH']"
      ]
     },
     "execution_count": 4,
     "metadata": {},
     "output_type": "execute_result"
    }
   ],
   "source": [
    "total_subject_list = OnlyFolder(default_path)\n",
    "total_subject_list = natsort.natsorted(total_subject_list) # 번호 순서대로 정렬\n",
    "total_subject_list"
   ]
  },
  {
   "cell_type": "markdown",
   "id": "47837a3d",
   "metadata": {},
   "source": [
    "## 분석할 subject 선택"
   ]
  },
  {
   "cell_type": "code",
   "execution_count": 40,
   "id": "93b0347a",
   "metadata": {},
   "outputs": [
    {
     "name": "stdout",
     "output_type": "stream",
     "text": [
      "Target Subjects: ['10_CSJ', '11_KMS', '12_CJK', '13_CSJ', '14_KMS', '15_LJH', '16_PBJ', '17_PBJ', '18_SYH', '19_SYH', '20_LJH']\n"
     ]
    }
   ],
   "source": [
    "# XX_HKD 의 XX를 그대로 입력 \n",
    "# ex) 05_HKD --> 5\n",
    "choose_sub = range(10,21)\n",
    "sub_list = []\n",
    "for sub_num in range(len(choose_sub)):\n",
    "   sub_list.append(total_subject_list[choose_sub[sub_num]-1])\n",
    "    \n",
    "print('Target Subjects: {}'.format(sub_list))"
   ]
  },
  {
   "cell_type": "code",
   "execution_count": 41,
   "id": "780651d5",
   "metadata": {},
   "outputs": [],
   "source": [
    "def SelectTxtFiles(file_list):\n",
    "    # file_list 중, 'txt' 문자열을 포함한 것만 남김\n",
    "    # file_list : 검사하고자 하는 file 이름이 담긴 list\n",
    "    print(\"\\nTest... if txt or not\")\n",
    "    result = []\n",
    "    for i in range(len(file_list)):\n",
    "        test = file_list[i][-3:]\n",
    "        if test == 'txt':\n",
    "            result.append(file_list[i])\n",
    "    print('Filtered txt files: {}'.format(result))\n",
    "    return result\n",
    "\n",
    "\n",
    "def TxtRead(path, filename):\n",
    "    # txt 파일을 line별로 읽어서 list로 반환\n",
    "    # path: 파일이 저장된 경로\n",
    "    # filname : 파일 이름\n",
    "\n",
    "    file_path = path + '\\\\' + filename\n",
    "    \n",
    "    result = []\n",
    "    num = 0\n",
    "    with open(file_path, 'r') as f:\n",
    "        lines = f.readlines()\n",
    "        for line in lines:\n",
    "            data = line.strip().split()\n",
    "            result.append(data)\n",
    "    return result\n",
    "            \n",
    "\n"
   ]
  },
  {
   "cell_type": "code",
   "execution_count": 42,
   "id": "143baa87",
   "metadata": {
    "lines_to_next_cell": 2,
    "scrolled": false
   },
   "outputs": [
    {
     "data": {
      "application/vnd.jupyter.widget-view+json": {
       "model_id": "8b65d31019ad4e8888ab7486de537fa3",
       "version_major": 2,
       "version_minor": 0
      },
      "text/plain": [
       "Total Processing:   0%|          | 0/11 [00:00<?, ?it/s]"
      ]
     },
     "metadata": {},
     "output_type": "display_data"
    },
    {
     "name": "stdout",
     "output_type": "stream",
     "text": [
      "------------------------------------\n",
      "10_CSJ\n",
      "\n",
      "Test... if txt or not\n",
      "Filtered txt files: ['s0.txt', 's1_N100.txt', 's2_S100.txt', 's3_N020.txt', 's4_N020.txt']\n",
      "\n",
      "Data Extraction Start ...\n"
     ]
    },
    {
     "data": {
      "application/vnd.jupyter.widget-view+json": {
       "model_id": "4a7d6a20da104846af315c568266cac7",
       "version_major": 2,
       "version_minor": 0
      },
      "text/plain": [
       "10_CSJ Processing:   0%|          | 0/5 [00:00<?, ?it/s]"
      ]
     },
     "metadata": {},
     "output_type": "display_data"
    },
    {
     "name": "stdout",
     "output_type": "stream",
     "text": [
      "1th txt..  Shape: (561536, 32), Size: 17969152 --> Save...done !\n",
      "2th txt..  Shape: (556416, 32), Size: 17805312 --> Save...done !\n",
      "3th txt..  Shape: (559296, 32), Size: 17897472 --> Save...done !\n",
      "4th txt..  Shape: (556992, 32), Size: 17823744 --> Save...done !\n",
      "5th txt..  Shape: (556416, 32), Size: 17805312 --> Save...done !\n",
      "------------------------------------\n",
      "11_KMS\n",
      "\n",
      "Test... if txt or not\n",
      "Filtered txt files: ['s0.txt', 's1_S100.txt', 's2_N100.txt', 's3_S020.txt', 's4_N020.txt']\n",
      "\n",
      "Data Extraction Start ...\n"
     ]
    },
    {
     "data": {
      "application/vnd.jupyter.widget-view+json": {
       "model_id": "432bf0a76cb248f48343d5c34702c166",
       "version_major": 2,
       "version_minor": 0
      },
      "text/plain": [
       "11_KMS Processing:   0%|          | 0/5 [00:00<?, ?it/s]"
      ]
     },
     "metadata": {},
     "output_type": "display_data"
    },
    {
     "name": "stdout",
     "output_type": "stream",
     "text": [
      "1th txt..  Shape: (555648, 32), Size: 17780736 --> Save...done !\n",
      "2th txt..  Shape: (556672, 32), Size: 17813504 --> Save...done !\n",
      "3th txt..  Shape: (556608, 32), Size: 17811456 --> Save...done !\n",
      "4th txt..  Shape: (559296, 32), Size: 17897472 --> Save...done !\n",
      "5th txt..  Shape: (556288, 32), Size: 17801216 --> Save...done !\n",
      "------------------------------------\n",
      "12_CJK\n",
      "\n",
      "Test... if txt or not\n",
      "Filtered txt files: ['s0.txt', 's1_N100.txt', 's2_S100.txt', 's3_N020.txt', 's4_S020.txt']\n",
      "\n",
      "Data Extraction Start ...\n"
     ]
    },
    {
     "data": {
      "application/vnd.jupyter.widget-view+json": {
       "model_id": "be76082cfaee408ba9feca274eef2ed5",
       "version_major": 2,
       "version_minor": 0
      },
      "text/plain": [
       "12_CJK Processing:   0%|          | 0/5 [00:00<?, ?it/s]"
      ]
     },
     "metadata": {},
     "output_type": "display_data"
    },
    {
     "name": "stdout",
     "output_type": "stream",
     "text": [
      "1th txt..  Shape: (560064, 32), Size: 17922048 --> Save...done !\n",
      "2th txt..  Shape: (557056, 32), Size: 17825792 --> Save...done !\n",
      "3th txt..  Shape: (564096, 32), Size: 18051072 --> Save...done !\n",
      "4th txt..  Shape: (556672, 32), Size: 17813504 --> Save...done !\n",
      "5th txt..  Shape: (556800, 32), Size: 17817600 --> Save...done !\n",
      "------------------------------------\n",
      "13_CSJ\n",
      "\n",
      "Test... if txt or not\n",
      "Filtered txt files: ['s0.txt', 's1_N020.txt', 's2_S020.txt', 's3_S100.txt', 's4_N100.txt']\n",
      "\n",
      "Data Extraction Start ...\n"
     ]
    },
    {
     "data": {
      "application/vnd.jupyter.widget-view+json": {
       "model_id": "903a053e961d4e40b1e3f501443cefeb",
       "version_major": 2,
       "version_minor": 0
      },
      "text/plain": [
       "13_CSJ Processing:   0%|          | 0/5 [00:00<?, ?it/s]"
      ]
     },
     "metadata": {},
     "output_type": "display_data"
    },
    {
     "name": "stdout",
     "output_type": "stream",
     "text": [
      "1th txt..  Shape: (556480, 32), Size: 17807360 --> Save...done !\n",
      "2th txt..  Shape: (556544, 32), Size: 17809408 --> Save...done !\n",
      "3th txt..  Shape: (555904, 32), Size: 17788928 --> Save...done !\n",
      "4th txt..  Shape: (558720, 32), Size: 17879040 --> Save...done !\n",
      "5th txt..  Shape: (556096, 32), Size: 17795072 --> Save...done !\n",
      "------------------------------------\n",
      "14_KMS\n",
      "\n",
      "Test... if txt or not\n",
      "Filtered txt files: ['s0.txt', 's1_S020.txt', 's2_N020.txt', 's3_S100.txt', 's4_N100.txt']\n",
      "\n",
      "Data Extraction Start ...\n"
     ]
    },
    {
     "data": {
      "application/vnd.jupyter.widget-view+json": {
       "model_id": "99a50f92f1fc4a969ebc071dce3b9bf7",
       "version_major": 2,
       "version_minor": 0
      },
      "text/plain": [
       "14_KMS Processing:   0%|          | 0/5 [00:00<?, ?it/s]"
      ]
     },
     "metadata": {},
     "output_type": "display_data"
    },
    {
     "name": "stdout",
     "output_type": "stream",
     "text": [
      "1th txt..  Shape: (556672, 32), Size: 17813504 --> Save...done !\n",
      "2th txt..  Shape: (566336, 32), Size: 18122752 --> Save...done !\n",
      "3th txt..  Shape: (557120, 32), Size: 17827840 --> Save...done !\n",
      "4th txt..  Shape: (565312, 32), Size: 18089984 --> Save...done !\n",
      "5th txt..  Shape: (556672, 32), Size: 17813504 --> Save...done !\n",
      "------------------------------------\n",
      "15_LJH\n",
      "\n",
      "Test... if txt or not\n",
      "Filtered txt files: ['s0.txt', 's1_S100.txt', 's2_N100.txt', 's3_S020.txt', 's4_N020.txt']\n",
      "\n",
      "Data Extraction Start ...\n"
     ]
    },
    {
     "data": {
      "application/vnd.jupyter.widget-view+json": {
       "model_id": "36d22f68637147939740466bd945bb66",
       "version_major": 2,
       "version_minor": 0
      },
      "text/plain": [
       "15_LJH Processing:   0%|          | 0/5 [00:00<?, ?it/s]"
      ]
     },
     "metadata": {},
     "output_type": "display_data"
    },
    {
     "name": "stdout",
     "output_type": "stream",
     "text": [
      "1th txt..  Shape: (558592, 32), Size: 17874944 --> Save...done !\n",
      "2th txt..  Shape: (558528, 32), Size: 17872896 --> Save...done !\n",
      "3th txt..  Shape: (558976, 32), Size: 17887232 --> Save...done !\n",
      "4th txt..  Shape: (555968, 32), Size: 17790976 --> Save...done !\n",
      "5th txt..  Shape: (556416, 32), Size: 17805312 --> Save...done !\n",
      "------------------------------------\n",
      "16_PBJ\n",
      "\n",
      "Test... if txt or not\n",
      "Filtered txt files: ['s0.txt', 's1_N100.txt', 's2_S020.txt', 's3_N020.txt', 's4_S100.txt']\n",
      "\n",
      "Data Extraction Start ...\n"
     ]
    },
    {
     "data": {
      "application/vnd.jupyter.widget-view+json": {
       "model_id": "c2c81afe35514faf941cdc15b5bab086",
       "version_major": 2,
       "version_minor": 0
      },
      "text/plain": [
       "16_PBJ Processing:   0%|          | 0/5 [00:00<?, ?it/s]"
      ]
     },
     "metadata": {},
     "output_type": "display_data"
    },
    {
     "name": "stdout",
     "output_type": "stream",
     "text": [
      "1th txt..  Shape: (558400, 32), Size: 17868800 --> Save...done !\n",
      "2th txt..  Shape: (554880, 32), Size: 17756160 --> Save...done !\n",
      "3th txt..  Shape: (558272, 32), Size: 17864704 --> Save...done !\n",
      "4th txt..  Shape: (558592, 32), Size: 17874944 --> Save...done !\n",
      "5th txt..  Shape: (558400, 32), Size: 17868800 --> Save...done !\n",
      "------------------------------------\n",
      "17_PBJ\n",
      "\n",
      "Test... if txt or not\n",
      "Filtered txt files: ['s0.txt', 's1_S020.txt', 's2_N020.txt', 's3_S100.txt', 's4_N100.txt']\n",
      "\n",
      "Data Extraction Start ...\n"
     ]
    },
    {
     "data": {
      "application/vnd.jupyter.widget-view+json": {
       "model_id": "a0c5db56d8b140fa92ac34ebd833802a",
       "version_major": 2,
       "version_minor": 0
      },
      "text/plain": [
       "17_PBJ Processing:   0%|          | 0/5 [00:00<?, ?it/s]"
      ]
     },
     "metadata": {},
     "output_type": "display_data"
    },
    {
     "name": "stdout",
     "output_type": "stream",
     "text": [
      "1th txt..  Shape: (559488, 32), Size: 17903616 --> Save...done !\n",
      "2th txt..  Shape: (556352, 32), Size: 17803264 --> Save...done !\n",
      "3th txt..  Shape: (556096, 32), Size: 17795072 --> Save...done !\n",
      "4th txt..  Shape: (556096, 32), Size: 17795072 --> Save...done !\n",
      "5th txt..  Shape: (556800, 32), Size: 17817600 --> Save...done !\n",
      "------------------------------------\n",
      "18_SYH\n",
      "\n",
      "Test... if txt or not\n",
      "Filtered txt files: ['s0.txt', 's1_N020.txt', 's2_S020.txt', 's3_N100.txt', 's4_S100.txt']\n",
      "\n",
      "Data Extraction Start ...\n"
     ]
    },
    {
     "data": {
      "application/vnd.jupyter.widget-view+json": {
       "model_id": "11a72b5ed7ff400c8e1e39f62e090b8c",
       "version_major": 2,
       "version_minor": 0
      },
      "text/plain": [
       "18_SYH Processing:   0%|          | 0/5 [00:00<?, ?it/s]"
      ]
     },
     "metadata": {},
     "output_type": "display_data"
    },
    {
     "name": "stdout",
     "output_type": "stream",
     "text": [
      "1th txt..  Shape: (558720, 32), Size: 17879040 --> Save...done !\n",
      "2th txt..  Shape: (556672, 32), Size: 17813504 --> Save...done !\n",
      "3th txt..  Shape: (557760, 32), Size: 17848320 --> Save...done !\n",
      "4th txt..  Shape: (557312, 32), Size: 17833984 --> Save...done !\n",
      "5th txt..  Shape: (556800, 32), Size: 17817600 --> Save...done !\n",
      "------------------------------------\n",
      "19_SYH\n",
      "\n",
      "Test... if txt or not\n",
      "Filtered txt files: ['s0.txt', 's1_N100.txt', 's2_S100.txt', 's3_N020.txt', 's4_S020.txt']\n",
      "\n",
      "Data Extraction Start ...\n"
     ]
    },
    {
     "data": {
      "application/vnd.jupyter.widget-view+json": {
       "model_id": "753ac307d10d4a75907ed692a6ba4f6a",
       "version_major": 2,
       "version_minor": 0
      },
      "text/plain": [
       "19_SYH Processing:   0%|          | 0/5 [00:00<?, ?it/s]"
      ]
     },
     "metadata": {},
     "output_type": "display_data"
    },
    {
     "name": "stdout",
     "output_type": "stream",
     "text": [
      "1th txt..  Shape: (558272, 32), Size: 17864704 --> Save...done !\n",
      "2th txt..  Shape: (594240, 32), Size: 19015680 --> Save...done !\n",
      "3th txt..  Shape: (558528, 32), Size: 17872896 --> Save...done !\n",
      "4th txt..  Shape: (558464, 32), Size: 17870848 --> Save...done !\n",
      "5th txt..  Shape: (558336, 32), Size: 17866752 --> Save...done !\n",
      "------------------------------------\n",
      "20_LJH\n",
      "\n",
      "Test... if txt or not\n",
      "Filtered txt files: ['s0.txt', 's1_S100.txt', 's2_N020.txt', 's3_N100.txt', 's4_S020.txt']\n",
      "\n",
      "Data Extraction Start ...\n"
     ]
    },
    {
     "data": {
      "application/vnd.jupyter.widget-view+json": {
       "model_id": "66b705a655514baa861de7553edd509f",
       "version_major": 2,
       "version_minor": 0
      },
      "text/plain": [
       "20_LJH Processing:   0%|          | 0/5 [00:00<?, ?it/s]"
      ]
     },
     "metadata": {},
     "output_type": "display_data"
    },
    {
     "name": "stdout",
     "output_type": "stream",
     "text": [
      "1th txt..  Shape: (556032, 32), Size: 17793024 --> Save...done !\n",
      "2th txt..  Shape: (557824, 32), Size: 17850368 --> Save...done !\n",
      "3th txt..  Shape: (557632, 32), Size: 17844224 --> Save...done !\n",
      "4th txt..  Shape: (557952, 32), Size: 17854464 --> Save...done !\n",
      "5th txt..  Shape: (555968, 32), Size: 17790976 --> Save...done !\n"
     ]
    }
   ],
   "source": [
    "for sub_num in tqdm(range(len(choose_sub)), desc='Total Processing'):\n",
    "    \n",
    "    print('------------------------------------')\n",
    "    print(sub_list[sub_num])\n",
    "    # 현재 sub_num에 해당하는 subject의 txt 파일이 존재하는 경로\n",
    "    subject_txt_path = default_path + '\\\\' + sub_list[sub_num] + '\\\\EEG'\n",
    "    \n",
    "    # txt 경로에서, 확장자명이 txt인 파일들만 선택\n",
    "    txt_list = SelectTxtFiles(os.listdir(subject_txt_path))\n",
    "    print('\\nData Extraction Start ...')\n",
    "    \n",
    "    # 5개의 txt 파일에 대해서 각각 data를 추출하고, mat파일로 저장\n",
    "    for stim_num in tqdm(range(len(txt_list)), desc=sub_list[sub_num] + ' Processing'):\n",
    "        print('{}th txt'.format(stim_num + 1), end='.. ')\n",
    "        \n",
    "        temp_data = TxtRead(subject_txt_path, txt_list[stim_num])\n",
    "        header = temp_data[:3] # header 성분\n",
    "        non_header = temp_data[3:] # non-header --> EEG data\n",
    "    \n",
    "        # non_header의 마지막 row에는 빈 배열이 존재하기 때문에, numpy로 전환하면서 오류가 발생함\n",
    "        # --> 마지막 row를 삭제\n",
    "        if len(non_header[len(non_header)-1]) == 0:\n",
    "            del non_header[len(non_header)-1] # list의 요소 제거 방법인 del을 사용\n",
    "            # non_header list를 numpy array로 변환\n",
    "            non_header = np.array(non_header, dtype=float)\n",
    "        non_header_df = pd.DataFrame(non_header)\n",
    "        \n",
    "        # ch34 유무에 따른 if 문\n",
    "        if non_header_df.shape[1] == 34:\n",
    "            # ch34기 존재하면 이는 flag를 저장하기 위한 채널이므로 삭제하여 준다.\n",
    "            # ch1은 빈배열이므로 index 0을 이용하여 제거\n",
    "            # ch34는index 33을 이용하여 제거\n",
    "            non_header_df = non_header_df.drop([0, 33], axis=1)\n",
    "        else:\n",
    "            # ch34가 존재하지 않으면, 빈 채널인 ch1만 index 0을 이용하여 제거            \n",
    "            non_header_df = non_header_df.drop(0, axis=1)\n",
    "            \n",
    "        print(\" Shape: {}, Size: {}\".format(non_header_df.shape, non_header_df.size), end=' --> Save...')\n",
    "        \n",
    "        data = np.array(non_header_df)\n",
    "        save_as = os.path.join(subject_txt_path, txt_list[stim_num][:-3]+'mat')\n",
    "        spio.savemat(save_as, mdict={'data': data})\n",
    "        print(\"done !\")"
   ]
  },
  {
   "cell_type": "code",
   "execution_count": 19,
   "id": "f2cd648d",
   "metadata": {},
   "outputs": [],
   "source": [
    "k = []"
   ]
  },
  {
   "cell_type": "code",
   "execution_count": 21,
   "id": "b878ae13",
   "metadata": {},
   "outputs": [
    {
     "data": {
      "text/plain": [
       "0"
      ]
     },
     "execution_count": 21,
     "metadata": {},
     "output_type": "execute_result"
    }
   ],
   "source": [
    "len(k)"
   ]
  },
  {
   "cell_type": "code",
   "execution_count": 32,
   "id": "965de0a7",
   "metadata": {},
   "outputs": [
    {
     "name": "stdout",
     "output_type": "stream",
     "text": [
      "<class 'numpy.ndarray'>\n"
     ]
    }
   ],
   "source": [
    "k = np.arange(0,6)\n",
    "print(type(k))"
   ]
  },
  {
   "cell_type": "code",
   "execution_count": 33,
   "id": "f39fd714",
   "metadata": {},
   "outputs": [],
   "source": [
    "t = range(0,5)"
   ]
  },
  {
   "cell_type": "code",
   "execution_count": 34,
   "id": "d29c6988",
   "metadata": {},
   "outputs": [
    {
     "data": {
      "text/plain": [
       "0"
      ]
     },
     "execution_count": 34,
     "metadata": {},
     "output_type": "execute_result"
    }
   ],
   "source": [
    "t[0]"
   ]
  },
  {
   "cell_type": "code",
   "execution_count": 35,
   "id": "a82c50e5",
   "metadata": {},
   "outputs": [
    {
     "data": {
      "text/plain": [
       "1"
      ]
     },
     "execution_count": 35,
     "metadata": {},
     "output_type": "execute_result"
    }
   ],
   "source": [
    "t[1]"
   ]
  },
  {
   "cell_type": "code",
   "execution_count": 36,
   "id": "4c3142a9",
   "metadata": {},
   "outputs": [
    {
     "data": {
      "text/plain": [
       "4"
      ]
     },
     "execution_count": 36,
     "metadata": {},
     "output_type": "execute_result"
    }
   ],
   "source": [
    "t[4]"
   ]
  },
  {
   "cell_type": "code",
   "execution_count": 37,
   "id": "0dc4b671",
   "metadata": {},
   "outputs": [
    {
     "ename": "IndexError",
     "evalue": "range object index out of range",
     "output_type": "error",
     "traceback": [
      "\u001b[1;31m---------------------------------------------------------------------------\u001b[0m",
      "\u001b[1;31mIndexError\u001b[0m                                Traceback (most recent call last)",
      "\u001b[1;32m~\\AppData\\Local\\Temp/ipykernel_17924/3463040720.py\u001b[0m in \u001b[0;36m<module>\u001b[1;34m\u001b[0m\n\u001b[1;32m----> 1\u001b[1;33m \u001b[0mt\u001b[0m\u001b[1;33m[\u001b[0m\u001b[1;36m5\u001b[0m\u001b[1;33m]\u001b[0m\u001b[1;33m\u001b[0m\u001b[1;33m\u001b[0m\u001b[0m\n\u001b[0m",
      "\u001b[1;31mIndexError\u001b[0m: range object index out of range"
     ]
    }
   ],
   "source": [
    "t[5]"
   ]
  },
  {
   "cell_type": "code",
   "execution_count": null,
   "id": "14a82819",
   "metadata": {},
   "outputs": [],
   "source": []
  }
 ],
 "metadata": {
  "jupytext": {
   "encoding": "# -*- coding: utf-8 -*-",
   "formats": "ipynb,py:light"
  },
  "kernelspec": {
   "display_name": "Python 3 (ipykernel)",
   "language": "python",
   "name": "python3"
  },
  "language_info": {
   "codemirror_mode": {
    "name": "ipython",
    "version": 3
   },
   "file_extension": ".py",
   "mimetype": "text/x-python",
   "name": "python",
   "nbconvert_exporter": "python",
   "pygments_lexer": "ipython3",
   "version": "3.9.7"
  }
 },
 "nbformat": 4,
 "nbformat_minor": 5
}
