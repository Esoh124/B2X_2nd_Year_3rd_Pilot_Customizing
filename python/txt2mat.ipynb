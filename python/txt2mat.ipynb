{
 "cells": [
  {
   "cell_type": "markdown",
   "id": "5b1a6f55",
   "metadata": {},
   "source": [
    "# pilot test3\n",
    "## - main protocol test\n",
    "## - 32ch\n",
    "## - ch1: empty, ch33: empty --> 둘다 삭제\n",
    "## - txt2mat\n",
    "\n",
    "### 20220126 작성 시작"
   ]
  },
  {
   "cell_type": "code",
   "execution_count": 1,
   "id": "5ad954b6",
   "metadata": {},
   "outputs": [],
   "source": [
    "import os \n",
    "import numpy as np\n",
    "import natsort\n",
    "import pandas as pd\n",
    "from tqdm.notebook import tqdm, trange\n",
    "import scipy.io as spio\n",
    "%matplotlib inline"
   ]
  },
  {
   "cell_type": "code",
   "execution_count": 2,
   "id": "e8e28216",
   "metadata": {
    "scrolled": true
   },
   "outputs": [
    {
     "data": {
      "text/plain": [
       "'E:\\\\B2X\\\\2차년도\\\\03_pilot\\\\subject_data'"
      ]
     },
     "execution_count": 2,
     "metadata": {},
     "output_type": "execute_result"
    }
   ],
   "source": [
    "default_path = 'E:\\\\B2X\\\\2차년도\\\\03_pilot\\\\subject_data'\n",
    "default_path"
   ]
  },
  {
   "cell_type": "markdown",
   "id": "75c376a1",
   "metadata": {},
   "source": [
    "## subject list 확보"
   ]
  },
  {
   "cell_type": "code",
   "execution_count": 3,
   "id": "ba7b33b2",
   "metadata": {},
   "outputs": [],
   "source": [
    "def OnlyFolder(path):\n",
    "    # return only folder, not file\n",
    "    # path: default_path which contains subject folders\n",
    "    \n",
    "    dir_list = os.listdir(path) # get all directory below the path\n",
    "    output = []\n",
    "    for i in range(len(dir_list)):\n",
    "        temp_path = os.path.join(path, dir_list[i])\n",
    "        if os.path.isdir(temp_path) == True:\n",
    "            output.append(dir_list[i])\n",
    "    return output"
   ]
  },
  {
   "cell_type": "code",
   "execution_count": 4,
   "id": "48b6cf80",
   "metadata": {},
   "outputs": [
    {
     "data": {
      "text/plain": [
       "['01_KDH',\n",
       " '02_HHB',\n",
       " '03_PSR',\n",
       " '04_CJK',\n",
       " '05_CKM',\n",
       " '06_KDH',\n",
       " '07_PSR',\n",
       " '08_HHB',\n",
       " '09_CKM',\n",
       " '10_CSJ',\n",
       " '11_KMS',\n",
       " '12_CJK',\n",
       " '13_CSJ',\n",
       " '14_KMS',\n",
       " '15_LJH',\n",
       " '16_PBJ',\n",
       " '17_PBJ',\n",
       " '18_SYH',\n",
       " '19_SYH',\n",
       " '20_LJH']"
      ]
     },
     "execution_count": 4,
     "metadata": {},
     "output_type": "execute_result"
    }
   ],
   "source": [
    "total_subject_list = OnlyFolder(default_path)\n",
    "total_subject_list = natsort.natsorted(total_subject_list) # 번호 순서대로 정렬\n",
    "total_subject_list"
   ]
  },
  {
   "cell_type": "markdown",
   "id": "47837a3d",
   "metadata": {},
   "source": [
    "## 분석할 subject 선택"
   ]
  },
  {
   "cell_type": "code",
   "execution_count": 5,
   "id": "93b0347a",
   "metadata": {},
   "outputs": [
    {
     "name": "stdout",
     "output_type": "stream",
     "text": [
      "Target Subjects: ['01_KDH', '02_HHB', '03_PSR', '04_CJK', '05_CKM', '06_KDH', '07_PSR', '08_HHB', '09_CKM', '10_CSJ', '11_KMS', '12_CJK', '13_CSJ', '14_KMS', '15_LJH', '16_PBJ', '17_PBJ', '18_SYH', '19_SYH', '20_LJH']\n"
     ]
    }
   ],
   "source": [
    "choose_sub = range(len(total_subject_list))\n",
    "sub_list = []\n",
    "for sub_num in range(len(choose_sub)):    \n",
    "    sub_list.append(total_subject_list[choose_sub[sub_num]])\n",
    "    \n",
    "print('Target Subjects: {}'.format(sub_list))"
   ]
  },
  {
   "cell_type": "code",
   "execution_count": 6,
   "id": "780651d5",
   "metadata": {},
   "outputs": [],
   "source": [
    "def SelectTxtFiles(file_list):\n",
    "    # file_list 중, 'txt' 문자열을 포함한 것만 남김\n",
    "    # file_list : 검사하고자 하는 file 이름이 담긴 list\n",
    "    print(\"\\nTest... if txt or not\")\n",
    "    result = []\n",
    "    for i in range(len(file_list)):\n",
    "        test = file_list[i][-3:]\n",
    "        if test == 'txt':\n",
    "            result.append(file_list[i])\n",
    "    print('Filtered txt files: {}'.format(result))\n",
    "    return result\n",
    "\n",
    "\n",
    "def TxtRead(path, filename):\n",
    "    # txt 파일을 line별로 읽어서 list로 반환\n",
    "    # path: 파일이 저장된 경로\n",
    "    # filname : 파일 이름\n",
    "\n",
    "    file_path = path + '\\\\' + filename\n",
    "    \n",
    "    result = []\n",
    "    num = 0\n",
    "    with open(file_path, 'r') as f:\n",
    "        lines = f.readlines()\n",
    "        for line in lines:\n",
    "            data = line.strip().split()\n",
    "            result.append(data)\n",
    "    return result"
   ]
  },
  {
   "cell_type": "code",
   "execution_count": 7,
   "id": "143baa87",
   "metadata": {
    "lines_to_next_cell": 2,
    "scrolled": false
   },
   "outputs": [
    {
     "data": {
      "application/vnd.jupyter.widget-view+json": {
       "model_id": "bd1312d324db42d68b9216440855deca",
       "version_major": 2,
       "version_minor": 0
      },
      "text/plain": [
       "Total Processing:   0%|          | 0/20 [00:00<?, ?it/s]"
      ]
     },
     "metadata": {},
     "output_type": "display_data"
    },
    {
     "name": "stdout",
     "output_type": "stream",
     "text": [
      "------------------------------------\n",
      "01_KDH\n",
      "\n",
      "Test... if txt or not\n",
      "Filtered txt files: ['s0.txt', 's1_N020.txt', 's2_S100.txt', 's3_N100.txt', 's4_S020.txt']\n",
      "\n",
      "Data Extraction Start ...\n"
     ]
    },
    {
     "data": {
      "application/vnd.jupyter.widget-view+json": {
       "model_id": "955cbad57f7043b8970a1f7895dce705",
       "version_major": 2,
       "version_minor": 0
      },
      "text/plain": [
       "01_KDH Processing:   0%|          | 0/5 [00:00<?, ?it/s]"
      ]
     },
     "metadata": {},
     "output_type": "display_data"
    },
    {
     "name": "stdout",
     "output_type": "stream",
     "text": [
      "1th txt..  Shape: (553216, 31), Size: 17149696 --> Save...done !\n",
      "2th txt..  Shape: (553024, 31), Size: 17143744 --> Save...done !\n",
      "3th txt..  Shape: (553344, 31), Size: 17153664 --> Save...done !\n",
      "4th txt..  Shape: (553216, 31), Size: 17149696 --> Save...done !\n",
      "5th txt..  Shape: (554048, 31), Size: 17175488 --> Save...done !\n",
      "------------------------------------\n",
      "02_HHB\n",
      "\n",
      "Test... if txt or not\n",
      "Filtered txt files: ['s0.txt', 's1_S020.txt', 's2_N100.txt', 's3_S100.txt', 's4_N020.txt']\n",
      "\n",
      "Data Extraction Start ...\n"
     ]
    },
    {
     "data": {
      "application/vnd.jupyter.widget-view+json": {
       "model_id": "2fadfb4db1e14f98a36fa8b1d1f4ac62",
       "version_major": 2,
       "version_minor": 0
      },
      "text/plain": [
       "02_HHB Processing:   0%|          | 0/5 [00:00<?, ?it/s]"
      ]
     },
     "metadata": {},
     "output_type": "display_data"
    },
    {
     "name": "stdout",
     "output_type": "stream",
     "text": [
      "1th txt..  Shape: (553920, 31), Size: 17171520 --> Save...done !\n",
      "2th txt..  Shape: (555712, 31), Size: 17227072 --> Save...done !\n",
      "3th txt..  Shape: (555776, 31), Size: 17229056 --> Save...done !\n",
      "4th txt..  Shape: (554560, 31), Size: 17191360 --> Save...done !\n",
      "5th txt..  Shape: (555648, 31), Size: 17225088 --> Save...done !\n",
      "------------------------------------\n",
      "03_PSR\n",
      "\n",
      "Test... if txt or not\n",
      "Filtered txt files: ['s0.txt', 's1_N020.txt', 's2_S020.txt', 's3_N100.txt', 's4_S100.txt']\n",
      "\n",
      "Data Extraction Start ...\n"
     ]
    },
    {
     "data": {
      "application/vnd.jupyter.widget-view+json": {
       "model_id": "1b78734a118b485b89b3e972692cf11e",
       "version_major": 2,
       "version_minor": 0
      },
      "text/plain": [
       "03_PSR Processing:   0%|          | 0/5 [00:00<?, ?it/s]"
      ]
     },
     "metadata": {},
     "output_type": "display_data"
    },
    {
     "name": "stdout",
     "output_type": "stream",
     "text": [
      "1th txt..  Shape: (557760, 31), Size: 17290560 --> Save...done !\n",
      "2th txt..  Shape: (556736, 31), Size: 17258816 --> Save...done !\n",
      "3th txt..  Shape: (556672, 31), Size: 17256832 --> Save...done !\n",
      "4th txt..  Shape: (556544, 31), Size: 17252864 --> Save...done !\n",
      "5th txt..  Shape: (555328, 31), Size: 17215168 --> Save...done !\n",
      "------------------------------------\n",
      "04_CJK\n",
      "\n",
      "Test... if txt or not\n",
      "Filtered txt files: ['s0.txt', 's1_S020.txt', 's2_N020.txt', 's3_S100.txt', 's4_N100.txt']\n",
      "\n",
      "Data Extraction Start ...\n"
     ]
    },
    {
     "data": {
      "application/vnd.jupyter.widget-view+json": {
       "model_id": "849bd2f44b4f45cdb980df18f21763d3",
       "version_major": 2,
       "version_minor": 0
      },
      "text/plain": [
       "04_CJK Processing:   0%|          | 0/5 [00:00<?, ?it/s]"
      ]
     },
     "metadata": {},
     "output_type": "display_data"
    },
    {
     "name": "stdout",
     "output_type": "stream",
     "text": [
      "1th txt..  Shape: (555456, 31), Size: 17219136 --> Save...done !\n",
      "2th txt..  Shape: (555136, 31), Size: 17209216 --> Save...done !\n",
      "3th txt..  Shape: (556288, 31), Size: 17244928 --> Save...done !\n",
      "4th txt..  Shape: (557952, 31), Size: 17296512 --> Save...done !\n",
      "5th txt..  Shape: (556672, 31), Size: 17256832 --> Save...done !\n",
      "------------------------------------\n",
      "05_CKM\n",
      "\n",
      "Test... if txt or not\n",
      "Filtered txt files: ['s0.txt', 's1_S020.txt', 's2_N020.txt', 's3_N100.txt', 's4_s100.txt']\n",
      "\n",
      "Data Extraction Start ...\n"
     ]
    },
    {
     "data": {
      "application/vnd.jupyter.widget-view+json": {
       "model_id": "7f25aa812aa3423881d81b0473195f8e",
       "version_major": 2,
       "version_minor": 0
      },
      "text/plain": [
       "05_CKM Processing:   0%|          | 0/5 [00:00<?, ?it/s]"
      ]
     },
     "metadata": {},
     "output_type": "display_data"
    },
    {
     "name": "stdout",
     "output_type": "stream",
     "text": [
      "1th txt..  Shape: (556032, 31), Size: 17236992 --> Save...done !\n",
      "2th txt..  Shape: (555456, 31), Size: 17219136 --> Save...done !\n",
      "3th txt..  Shape: (557440, 31), Size: 17280640 --> Save...done !\n",
      "4th txt..  Shape: (556736, 31), Size: 17258816 --> Save...done !\n",
      "5th txt..  Shape: (559680, 31), Size: 17350080 --> Save...done !\n",
      "------------------------------------\n",
      "06_KDH\n",
      "\n",
      "Test... if txt or not\n",
      "Filtered txt files: ['s0.txt', 's1_N020.txt', 's2_S100.txt', 's3_S020.txt', 's4_N100.txt']\n",
      "\n",
      "Data Extraction Start ...\n"
     ]
    },
    {
     "data": {
      "application/vnd.jupyter.widget-view+json": {
       "model_id": "aee98edcaa884c168d0a6f1e9974c218",
       "version_major": 2,
       "version_minor": 0
      },
      "text/plain": [
       "06_KDH Processing:   0%|          | 0/5 [00:00<?, ?it/s]"
      ]
     },
     "metadata": {},
     "output_type": "display_data"
    },
    {
     "name": "stdout",
     "output_type": "stream",
     "text": [
      "1th txt..  Shape: (555712, 31), Size: 17227072 --> Save...done !\n",
      "2th txt..  Shape: (558272, 31), Size: 17306432 --> Save...done !\n",
      "3th txt..  Shape: (558272, 31), Size: 17306432 --> Save...done !\n",
      "4th txt..  Shape: (558400, 31), Size: 17310400 --> Save...done !\n",
      "5th txt..  Shape: (558400, 31), Size: 17310400 --> Save...done !\n",
      "------------------------------------\n",
      "07_PSR\n",
      "\n",
      "Test... if txt or not\n",
      "Filtered txt files: ['s0.txt', 's1_S100.txt', 's2_N100.txt', 's3_N020.txt', 's4_S020.txt']\n",
      "\n",
      "Data Extraction Start ...\n"
     ]
    },
    {
     "data": {
      "application/vnd.jupyter.widget-view+json": {
       "model_id": "a11a4b33371a4ee393ba4b0d70b131f9",
       "version_major": 2,
       "version_minor": 0
      },
      "text/plain": [
       "07_PSR Processing:   0%|          | 0/5 [00:00<?, ?it/s]"
      ]
     },
     "metadata": {},
     "output_type": "display_data"
    },
    {
     "name": "stdout",
     "output_type": "stream",
     "text": [
      "1th txt..  Shape: (557632, 31), Size: 17286592 --> Save...done !\n",
      "2th txt..  Shape: (556352, 31), Size: 17246912 --> Save...done !\n",
      "3th txt..  Shape: (557184, 31), Size: 17272704 --> Save...done !\n",
      "4th txt..  Shape: (557056, 31), Size: 17268736 --> Save...done !\n",
      "5th txt..  Shape: (556608, 31), Size: 17254848 --> Save...done !\n",
      "------------------------------------\n",
      "08_HHB\n",
      "\n",
      "Test... if txt or not\n",
      "Filtered txt files: ['s0.txt', 's1_S100.txt', 's2_N020.txt', 's3_S020.txt', 's4_N100.txt']\n",
      "\n",
      "Data Extraction Start ...\n"
     ]
    },
    {
     "data": {
      "application/vnd.jupyter.widget-view+json": {
       "model_id": "d1a6d83762e849d38f0505a6c57c3ee9",
       "version_major": 2,
       "version_minor": 0
      },
      "text/plain": [
       "08_HHB Processing:   0%|          | 0/5 [00:00<?, ?it/s]"
      ]
     },
     "metadata": {},
     "output_type": "display_data"
    },
    {
     "name": "stdout",
     "output_type": "stream",
     "text": [
      "1th txt..  Shape: (606272, 31), Size: 18794432 --> Save...done !\n",
      "2th txt..  Shape: (557056, 31), Size: 17268736 --> Save...done !\n",
      "3th txt..  Shape: (557568, 31), Size: 17284608 --> Save...done !\n",
      "4th txt..  Shape: (555904, 31), Size: 17233024 --> Save...done !\n",
      "5th txt..  Shape: (563136, 31), Size: 17457216 --> Save...done !\n",
      "------------------------------------\n",
      "09_CKM\n",
      "\n",
      "Test... if txt or not\n",
      "Filtered txt files: ['s0.txt', 's1_N020.txt', 's2_S020.txt', 's3_N100.txt', 's4_S100.txt']\n",
      "\n",
      "Data Extraction Start ...\n"
     ]
    },
    {
     "data": {
      "application/vnd.jupyter.widget-view+json": {
       "model_id": "12e4b9698f6e446e979719a0459eb80a",
       "version_major": 2,
       "version_minor": 0
      },
      "text/plain": [
       "09_CKM Processing:   0%|          | 0/5 [00:00<?, ?it/s]"
      ]
     },
     "metadata": {},
     "output_type": "display_data"
    },
    {
     "name": "stdout",
     "output_type": "stream",
     "text": [
      "1th txt..  Shape: (555072, 31), Size: 17207232 --> Save...done !\n",
      "2th txt..  Shape: (555584, 31), Size: 17223104 --> Save...done !\n",
      "3th txt..  Shape: (558400, 31), Size: 17310400 --> Save...done !\n",
      "4th txt..  Shape: (558848, 31), Size: 17324288 --> Save...done !\n",
      "5th txt..  Shape: (556288, 31), Size: 17244928 --> Save...done !\n",
      "------------------------------------\n",
      "10_CSJ\n",
      "\n",
      "Test... if txt or not\n",
      "Filtered txt files: ['s0.txt', 's1_N100.txt', 's2_S100.txt', 's3_N020.txt', 's4_N020.txt']\n",
      "\n",
      "Data Extraction Start ...\n"
     ]
    },
    {
     "data": {
      "application/vnd.jupyter.widget-view+json": {
       "model_id": "d1ab2ed727db45fbb75f078e5339e7fd",
       "version_major": 2,
       "version_minor": 0
      },
      "text/plain": [
       "10_CSJ Processing:   0%|          | 0/5 [00:00<?, ?it/s]"
      ]
     },
     "metadata": {},
     "output_type": "display_data"
    },
    {
     "name": "stdout",
     "output_type": "stream",
     "text": [
      "1th txt..  Shape: (561536, 31), Size: 17407616 --> Save...done !\n",
      "2th txt..  Shape: (556416, 31), Size: 17248896 --> Save...done !\n",
      "3th txt..  Shape: (559296, 31), Size: 17338176 --> Save...done !\n",
      "4th txt..  Shape: (556992, 31), Size: 17266752 --> Save...done !\n",
      "5th txt..  Shape: (556416, 31), Size: 17248896 --> Save...done !\n",
      "------------------------------------\n",
      "11_KMS\n",
      "\n",
      "Test... if txt or not\n",
      "Filtered txt files: ['s0.txt', 's1_S100.txt', 's2_N100.txt', 's3_S020.txt', 's4_N020.txt']\n",
      "\n",
      "Data Extraction Start ...\n"
     ]
    },
    {
     "data": {
      "application/vnd.jupyter.widget-view+json": {
       "model_id": "f0e498ac3b554a51931e7debe7de857a",
       "version_major": 2,
       "version_minor": 0
      },
      "text/plain": [
       "11_KMS Processing:   0%|          | 0/5 [00:00<?, ?it/s]"
      ]
     },
     "metadata": {},
     "output_type": "display_data"
    },
    {
     "name": "stdout",
     "output_type": "stream",
     "text": [
      "1th txt..  Shape: (555648, 31), Size: 17225088 --> Save...done !\n",
      "2th txt..  Shape: (556672, 31), Size: 17256832 --> Save...done !\n",
      "3th txt..  Shape: (556608, 31), Size: 17254848 --> Save...done !\n",
      "4th txt..  Shape: (559296, 31), Size: 17338176 --> Save...done !\n",
      "5th txt..  Shape: (556288, 31), Size: 17244928 --> Save...done !\n",
      "------------------------------------\n",
      "12_CJK\n",
      "\n",
      "Test... if txt or not\n",
      "Filtered txt files: ['s0.txt', 's1_N100.txt', 's2_S100.txt', 's3_N020.txt', 's4_S020.txt']\n",
      "\n",
      "Data Extraction Start ...\n"
     ]
    },
    {
     "data": {
      "application/vnd.jupyter.widget-view+json": {
       "model_id": "3a41a0aa9abb4f7b9797fb4ecc3e2777",
       "version_major": 2,
       "version_minor": 0
      },
      "text/plain": [
       "12_CJK Processing:   0%|          | 0/5 [00:00<?, ?it/s]"
      ]
     },
     "metadata": {},
     "output_type": "display_data"
    },
    {
     "name": "stdout",
     "output_type": "stream",
     "text": [
      "1th txt..  Shape: (560064, 31), Size: 17361984 --> Save...done !\n",
      "2th txt..  Shape: (557056, 31), Size: 17268736 --> Save...done !\n",
      "3th txt..  Shape: (564096, 31), Size: 17486976 --> Save...done !\n",
      "4th txt..  Shape: (556672, 31), Size: 17256832 --> Save...done !\n",
      "5th txt..  Shape: (556800, 31), Size: 17260800 --> Save...done !\n",
      "------------------------------------\n",
      "13_CSJ\n",
      "\n",
      "Test... if txt or not\n",
      "Filtered txt files: ['s0.txt', 's1_N020.txt', 's2_S020.txt', 's3_S100.txt', 's4_N100.txt']\n",
      "\n",
      "Data Extraction Start ...\n"
     ]
    },
    {
     "data": {
      "application/vnd.jupyter.widget-view+json": {
       "model_id": "bc4e0e893ffc45f8a9204642fa6cc1c8",
       "version_major": 2,
       "version_minor": 0
      },
      "text/plain": [
       "13_CSJ Processing:   0%|          | 0/5 [00:00<?, ?it/s]"
      ]
     },
     "metadata": {},
     "output_type": "display_data"
    },
    {
     "name": "stdout",
     "output_type": "stream",
     "text": [
      "1th txt..  Shape: (556480, 31), Size: 17250880 --> Save...done !\n",
      "2th txt..  Shape: (556544, 31), Size: 17252864 --> Save...done !\n",
      "3th txt..  Shape: (555904, 31), Size: 17233024 --> Save...done !\n",
      "4th txt..  Shape: (558720, 31), Size: 17320320 --> Save...done !\n",
      "5th txt..  Shape: (556096, 31), Size: 17238976 --> Save...done !\n",
      "------------------------------------\n",
      "14_KMS\n",
      "\n",
      "Test... if txt or not\n",
      "Filtered txt files: ['s0.txt', 's1_S020.txt', 's2_N020.txt', 's3_S100.txt', 's4_N100.txt']\n",
      "\n",
      "Data Extraction Start ...\n"
     ]
    },
    {
     "data": {
      "application/vnd.jupyter.widget-view+json": {
       "model_id": "85db0c09a1fd4bcfbc41b29d363c34a6",
       "version_major": 2,
       "version_minor": 0
      },
      "text/plain": [
       "14_KMS Processing:   0%|          | 0/5 [00:00<?, ?it/s]"
      ]
     },
     "metadata": {},
     "output_type": "display_data"
    },
    {
     "name": "stdout",
     "output_type": "stream",
     "text": [
      "1th txt..  Shape: (556672, 31), Size: 17256832 --> Save...done !\n",
      "2th txt..  Shape: (566336, 31), Size: 17556416 --> Save...done !\n",
      "3th txt..  Shape: (557120, 31), Size: 17270720 --> Save...done !\n",
      "4th txt..  Shape: (565312, 31), Size: 17524672 --> Save...done !\n",
      "5th txt..  Shape: (556672, 31), Size: 17256832 --> Save...done !\n",
      "------------------------------------\n",
      "15_LJH\n",
      "\n",
      "Test... if txt or not\n",
      "Filtered txt files: ['s0.txt', 's1_S100.txt', 's2_N100.txt', 's3_S020.txt', 's4_N020.txt']\n",
      "\n",
      "Data Extraction Start ...\n"
     ]
    },
    {
     "data": {
      "application/vnd.jupyter.widget-view+json": {
       "model_id": "e2e45e31575946e8adcd0d4b183b4e49",
       "version_major": 2,
       "version_minor": 0
      },
      "text/plain": [
       "15_LJH Processing:   0%|          | 0/5 [00:00<?, ?it/s]"
      ]
     },
     "metadata": {},
     "output_type": "display_data"
    },
    {
     "name": "stdout",
     "output_type": "stream",
     "text": [
      "1th txt..  Shape: (558592, 31), Size: 17316352 --> Save...done !\n",
      "2th txt..  Shape: (558528, 31), Size: 17314368 --> Save...done !\n",
      "3th txt..  Shape: (558976, 31), Size: 17328256 --> Save...done !\n",
      "4th txt..  Shape: (555968, 31), Size: 17235008 --> Save...done !\n",
      "5th txt..  Shape: (556416, 31), Size: 17248896 --> Save...done !\n",
      "------------------------------------\n",
      "16_PBJ\n",
      "\n",
      "Test... if txt or not\n",
      "Filtered txt files: ['s0.txt', 's1_N100.txt', 's2_S020.txt', 's3_N020.txt', 's4_S100.txt']\n",
      "\n",
      "Data Extraction Start ...\n"
     ]
    },
    {
     "data": {
      "application/vnd.jupyter.widget-view+json": {
       "model_id": "42ddbbd4494b47848550a791545591c4",
       "version_major": 2,
       "version_minor": 0
      },
      "text/plain": [
       "16_PBJ Processing:   0%|          | 0/5 [00:00<?, ?it/s]"
      ]
     },
     "metadata": {},
     "output_type": "display_data"
    },
    {
     "name": "stdout",
     "output_type": "stream",
     "text": [
      "1th txt..  Shape: (558400, 31), Size: 17310400 --> Save...done !\n",
      "2th txt..  Shape: (554880, 31), Size: 17201280 --> Save...done !\n",
      "3th txt..  Shape: (558272, 31), Size: 17306432 --> Save...done !\n",
      "4th txt..  Shape: (558592, 31), Size: 17316352 --> Save...done !\n",
      "5th txt..  Shape: (558400, 31), Size: 17310400 --> Save...done !\n",
      "------------------------------------\n",
      "17_PBJ\n",
      "\n",
      "Test... if txt or not\n",
      "Filtered txt files: ['s0.txt', 's1_S020.txt', 's2_N020.txt', 's3_S100.txt', 's4_N100.txt']\n",
      "\n",
      "Data Extraction Start ...\n"
     ]
    },
    {
     "data": {
      "application/vnd.jupyter.widget-view+json": {
       "model_id": "bb4af930070d4139b34300d58649fd48",
       "version_major": 2,
       "version_minor": 0
      },
      "text/plain": [
       "17_PBJ Processing:   0%|          | 0/5 [00:00<?, ?it/s]"
      ]
     },
     "metadata": {},
     "output_type": "display_data"
    },
    {
     "name": "stdout",
     "output_type": "stream",
     "text": [
      "1th txt..  Shape: (559488, 31), Size: 17344128 --> Save...done !\n",
      "2th txt..  Shape: (556352, 31), Size: 17246912 --> Save...done !\n",
      "3th txt..  Shape: (556096, 31), Size: 17238976 --> Save...done !\n",
      "4th txt..  Shape: (556096, 31), Size: 17238976 --> Save...done !\n",
      "5th txt..  Shape: (556800, 31), Size: 17260800 --> Save...done !\n",
      "------------------------------------\n",
      "18_SYH\n",
      "\n",
      "Test... if txt or not\n",
      "Filtered txt files: ['s0.txt', 's1_N020.txt', 's2_S020.txt', 's3_N100.txt', 's4_S100.txt']\n",
      "\n",
      "Data Extraction Start ...\n"
     ]
    },
    {
     "data": {
      "application/vnd.jupyter.widget-view+json": {
       "model_id": "545a89725d0b49b6a73d39ea0bb6164f",
       "version_major": 2,
       "version_minor": 0
      },
      "text/plain": [
       "18_SYH Processing:   0%|          | 0/5 [00:00<?, ?it/s]"
      ]
     },
     "metadata": {},
     "output_type": "display_data"
    },
    {
     "name": "stdout",
     "output_type": "stream",
     "text": [
      "1th txt..  Shape: (558720, 31), Size: 17320320 --> Save...done !\n",
      "2th txt..  Shape: (556672, 31), Size: 17256832 --> Save...done !\n",
      "3th txt..  Shape: (557760, 31), Size: 17290560 --> Save...done !\n",
      "4th txt..  Shape: (557312, 31), Size: 17276672 --> Save...done !\n",
      "5th txt..  Shape: (556800, 31), Size: 17260800 --> Save...done !\n",
      "------------------------------------\n",
      "19_SYH\n",
      "\n",
      "Test... if txt or not\n",
      "Filtered txt files: ['s0.txt', 's1_N100.txt', 's2_S100.txt', 's3_N020.txt', 's4_S020.txt']\n",
      "\n",
      "Data Extraction Start ...\n"
     ]
    },
    {
     "data": {
      "application/vnd.jupyter.widget-view+json": {
       "model_id": "b44a823a43f947be83000d24200a5a74",
       "version_major": 2,
       "version_minor": 0
      },
      "text/plain": [
       "19_SYH Processing:   0%|          | 0/5 [00:00<?, ?it/s]"
      ]
     },
     "metadata": {},
     "output_type": "display_data"
    },
    {
     "name": "stdout",
     "output_type": "stream",
     "text": [
      "1th txt..  Shape: (558272, 31), Size: 17306432 --> Save...done !\n",
      "2th txt..  Shape: (594240, 31), Size: 18421440 --> Save...done !\n",
      "3th txt..  Shape: (558528, 31), Size: 17314368 --> Save...done !\n",
      "4th txt..  Shape: (558464, 31), Size: 17312384 --> Save...done !\n",
      "5th txt..  Shape: (558336, 31), Size: 17308416 --> Save...done !\n",
      "------------------------------------\n",
      "20_LJH\n",
      "\n",
      "Test... if txt or not\n",
      "Filtered txt files: ['s0.txt', 's1_S100.txt', 's2_N020.txt', 's3_N100.txt', 's4_S020.txt']\n",
      "\n",
      "Data Extraction Start ...\n"
     ]
    },
    {
     "data": {
      "application/vnd.jupyter.widget-view+json": {
       "model_id": "670afc2129f145ec84db189bc184a00e",
       "version_major": 2,
       "version_minor": 0
      },
      "text/plain": [
       "20_LJH Processing:   0%|          | 0/5 [00:00<?, ?it/s]"
      ]
     },
     "metadata": {},
     "output_type": "display_data"
    },
    {
     "name": "stdout",
     "output_type": "stream",
     "text": [
      "1th txt..  Shape: (556032, 31), Size: 17236992 --> Save...done !\n",
      "2th txt..  Shape: (557824, 31), Size: 17292544 --> Save...done !\n",
      "3th txt..  Shape: (557632, 31), Size: 17286592 --> Save...done !\n",
      "4th txt..  Shape: (557952, 31), Size: 17296512 --> Save...done !\n",
      "5th txt..  Shape: (555968, 31), Size: 17235008 --> Save...done !\n"
     ]
    }
   ],
   "source": [
    "for sub_num in tqdm(range(len(choose_sub)), desc='Total Processing'):\n",
    "    \n",
    "    print('------------------------------------')\n",
    "    print(sub_list[sub_num])\n",
    "    # 현재 sub_num에 해당하는 subject의 txt 파일이 존재하는 경로\n",
    "    subject_txt_path = default_path + '\\\\' + sub_list[sub_num] + '\\\\EEG'\n",
    "    \n",
    "    # txt 경로에서, 확장자명이 txt인 파일들만 선택\n",
    "    txt_list = SelectTxtFiles(os.listdir(subject_txt_path))\n",
    "    print('\\nData Extraction Start ...')\n",
    "    \n",
    "    # 5개의 txt 파일에 대해서 각각 data를 추출하고, mat파일로 저장\n",
    "    for stim_num in tqdm(range(len(txt_list)), desc=sub_list[sub_num] + ' Processing'):\n",
    "        print('{}th txt'.format(stim_num + 1), end='.. ')\n",
    "        \n",
    "        temp_data = TxtRead(subject_txt_path, txt_list[stim_num])\n",
    "        header = temp_data[:3] # header 성분\n",
    "        non_header = temp_data[3:] # non-header --> EEG data\n",
    "    \n",
    "        # non_header의 마지막 row에는 빈 배열이 존재하기 때문에, numpy로 전환하면서 오류가 발생함\n",
    "        # --> 마지막 row를 삭제\n",
    "        if len(non_header[len(non_header)-1]) == 0:\n",
    "            del non_header[len(non_header)-1] # list의 요소 제거 방법인 del을 사용\n",
    "            # non_header list를 numpy array로 변환\n",
    "            non_header = np.array(non_header, dtype=float)\n",
    "        non_header_df = pd.DataFrame(non_header)\n",
    "        \n",
    "        # useless channel 제거\n",
    "        # ch1 : time 정보 --> 제거\n",
    "        # ch2 : noise --> 제거\n",
    "        # ch34 : flag --> 제거\n",
    "        # 총 34개 채널 중, 3개 채널을 제거하면 31 채널이 남는다\n",
    "        if non_header_df.shape[1] == 34:\n",
    "            # ch34가 존재하는 경우\n",
    "            non_header_df = non_header_df.drop([0, 1, 33], axis=1)\n",
    "        else:\n",
    "            # ch34가 존재하지 않으면, ch1과 ch2만 index 0,1을 이용하여 제거            \n",
    "            non_header_df = non_header_df.drop([0, 1], axis=1)\n",
    "            \n",
    "        print(\" Shape: {}, Size: {}\".format(non_header_df.shape, non_header_df.size), end=' --> Save...')\n",
    "        \n",
    "        data = np.array(non_header_df)\n",
    "        save_as = os.path.join(subject_txt_path, txt_list[stim_num][:-3]+'mat')\n",
    "        spio.savemat(save_as, mdict={'data': data})\n",
    "        print(\"done !\")"
   ]
  },
  {
   "cell_type": "code",
   "execution_count": 18,
   "id": "f2cd648d",
   "metadata": {},
   "outputs": [],
   "source": [
    "k = pd.DataFrame(temp_data[3:])"
   ]
  },
  {
   "cell_type": "code",
   "execution_count": 22,
   "id": "5debf7b5",
   "metadata": {},
   "outputs": [
    {
     "name": "stdout",
     "output_type": "stream",
     "text": [
      "0    0.000000\n",
      "1    0.001953\n",
      "2    0.003906\n",
      "3    0.005859\n",
      "4    0.007813\n",
      "5    0.009766\n",
      "6    0.011719\n",
      "7    0.013672\n",
      "8    0.015625\n",
      "9    0.017578\n",
      "Name: 0, dtype: object\n"
     ]
    }
   ],
   "source": [
    "print(k.iloc[0:10,0])"
   ]
  },
  {
   "cell_type": "code",
   "execution_count": 16,
   "id": "4fc756e6",
   "metadata": {},
   "outputs": [
    {
     "data": {
      "text/plain": [
       "34"
      ]
     },
     "execution_count": 16,
     "metadata": {},
     "output_type": "execute_result"
    }
   ],
   "source": [
    "len(k[0])"
   ]
  },
  {
   "cell_type": "code",
   "execution_count": 5,
   "id": "0e7e8eae",
   "metadata": {},
   "outputs": [],
   "source": [
    "t = range(4)"
   ]
  },
  {
   "cell_type": "code",
   "execution_count": 7,
   "id": "d2f94c41",
   "metadata": {},
   "outputs": [
    {
     "data": {
      "text/plain": [
       "3"
      ]
     },
     "execution_count": 7,
     "metadata": {},
     "output_type": "execute_result"
    }
   ],
   "source": [
    "t[3]"
   ]
  },
  {
   "cell_type": "code",
   "execution_count": null,
   "id": "cc2d5a53",
   "metadata": {},
   "outputs": [],
   "source": []
  }
 ],
 "metadata": {
  "jupytext": {
   "encoding": "# -*- coding: utf-8 -*-",
   "formats": "ipynb,py:light"
  },
  "kernelspec": {
   "display_name": "Python 3 (ipykernel)",
   "language": "python",
   "name": "python3"
  },
  "language_info": {
   "codemirror_mode": {
    "name": "ipython",
    "version": 3
   },
   "file_extension": ".py",
   "mimetype": "text/x-python",
   "name": "python",
   "nbconvert_exporter": "python",
   "pygments_lexer": "ipython3",
   "version": "3.9.7"
  }
 },
 "nbformat": 4,
 "nbformat_minor": 5
}
