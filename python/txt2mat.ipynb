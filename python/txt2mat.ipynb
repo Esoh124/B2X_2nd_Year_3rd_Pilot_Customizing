{
 "cells": [
  {
   "cell_type": "markdown",
   "id": "5b1a6f55",
   "metadata": {},
   "source": [
    "# pilot test3\n",
    "## - main protocol test\n",
    "## - 32ch\n",
    "## - ch1: empty, ch33: empty --> 둘다 삭제\n",
    "## - txt2mat\n",
    "### 20220126 작성 시작"
   ]
  },
  {
   "cell_type": "markdown",
   "id": "0259b43f",
   "metadata": {},
   "source": [
    "\n",
    "### 20220126 작성 시작"
   ]
  },
  {
   "cell_type": "code",
   "execution_count": 12,
   "id": "5ad954b6",
   "metadata": {},
   "outputs": [],
   "source": [
    "import os \n",
    "import numpy as np\n",
    "import natsort\n",
    "import pandas as pd\n",
    "from tqdm.notebook import tqdm, trange\n",
    "import scipy.io as spio\n",
    "%matplotlib inline"
   ]
  },
  {
   "cell_type": "code",
   "execution_count": 15,
   "id": "e8e28216",
   "metadata": {
    "scrolled": true
   },
   "outputs": [
    {
     "data": {
      "text/plain": [
       "'C:/Users/USER/Desktop/converted_B2X2'"
      ]
     },
     "execution_count": 15,
     "metadata": {},
     "output_type": "execute_result"
    }
   ],
   "source": [
    "#default_path = 'E:\\\\B2X\\\\2차년도\\\\03_pilot\\\\subject_data'\n",
    "default_path = 'C:/Users/USER/Desktop/converted_B2X2'\n",
    "default_path"
   ]
  },
  {
   "cell_type": "markdown",
   "id": "75c376a1",
   "metadata": {},
   "source": [
    "## subject list 확보"
   ]
  },
  {
   "cell_type": "code",
   "execution_count": 10,
   "id": "ba7b33b2",
   "metadata": {},
   "outputs": [],
   "source": [
    "def OnlyFolder(path):\n",
    "    # return only folder, not file\n",
    "    # path: default_path which contains subject folders\n",
    "    \n",
    "    dir_list = os.listdir(path) # get all directory below the path\n",
    "    output = []\n",
    "    for i in range(len(dir_list)):\n",
    "        temp_path = os.path.join(path, dir_list[i])\n",
    "        if os.path.isdir(temp_path) == True:\n",
    "            output.append(dir_list[i])\n",
    "    return output"
   ]
  },
  {
   "cell_type": "code",
   "execution_count": 4,
   "id": "48b6cf80",
   "metadata": {},
   "outputs": [],
   "source": [
    "#total_subject_list = OnlyFolder(default_path)\n",
    "#total_subject_list = natsort.natsorted(total_subject_list) # 번호 순서대로 정렬\n",
    "total_subject_list = ['20211230_CJK']"
   ]
  },
  {
   "cell_type": "markdown",
   "id": "47837a3d",
   "metadata": {},
   "source": [
    "## 분석할 subject 선택"
   ]
  },
  {
   "cell_type": "code",
   "execution_count": 5,
   "id": "93b0347a",
   "metadata": {},
   "outputs": [
    {
     "name": "stdout",
     "output_type": "stream",
     "text": [
      "Target Subjects: ['20211230_CJK']\n"
     ]
    }
   ],
   "source": [
    "choose_sub = range(len(total_subject_list))\n",
    "sub_list = []\n",
    "for sub_num in range(len(choose_sub)):    \n",
    "    sub_list.append(total_subject_list[choose_sub[sub_num]])\n",
    "    \n",
    "print('Target Subjects: {}'.format(sub_list))"
   ]
  },
  {
   "cell_type": "code",
   "execution_count": 6,
   "id": "780651d5",
   "metadata": {},
   "outputs": [],
   "source": [
    "def SelectTxtFiles(file_list):\n",
    "    # file_list 중, 'txt' 문자열을 포함한 것만 남김\n",
    "    # file_list : 검사하고자 하는 file 이름이 담긴 list\n",
    "    print(\"\\nTest... if txt or not\")\n",
    "    result = []\n",
    "    for i in range(len(file_list)):\n",
    "        if file_list[i].endswith(\".txt\"):\n",
    "            result.append(file_list[i])\n",
    "    print('Filtered txt files: {}'.format(result))\n",
    "    return result\n",
    "\n",
    "\n",
    "def TxtRead(path, filename):\n",
    "    # txt 파일을 line별로 읽어서 list로 반환\n",
    "    # path: 파일이 저장된 경로\n",
    "    # filname : 파일 이름\n",
    "\n",
    "    file_path = path + '\\\\' + filename\n",
    "    \n",
    "    result = []\n",
    "    num = 0\n",
    "    with open(file_path, 'r') as f:\n",
    "        lines = f.readlines()\n",
    "        for line in lines:\n",
    "            data = line.strip().split()\n",
    "            result.append(data)\n",
    "    return result"
   ]
  },
  {
   "cell_type": "code",
   "execution_count": 16,
   "id": "143baa87",
   "metadata": {
    "lines_to_next_cell": 2,
    "scrolled": false
   },
   "outputs": [
    {
     "data": {
      "application/vnd.jupyter.widget-view+json": {
       "model_id": "de8ded3006e1464dbd1b14f674705940",
       "version_major": 2,
       "version_minor": 0
      },
      "text/plain": [
       "Total Processing:   0%|          | 0/1 [00:00<?, ?it/s]"
      ]
     },
     "metadata": {},
     "output_type": "display_data"
    },
    {
     "name": "stdout",
     "output_type": "stream",
     "text": [
      "------------------------------------\n",
      "20211230_CJK\n"
     ]
    },
    {
     "ename": "FileNotFoundError",
     "evalue": "[WinError 3] 지정된 경로를 찾을 수 없습니다: 'C:/Users/USER/Desktop/converted_B2X2\\\\20211230_CJK\\\\EEG'",
     "output_type": "error",
     "traceback": [
      "\u001b[1;31m---------------------------------------------------------------------------\u001b[0m",
      "\u001b[1;31mFileNotFoundError\u001b[0m                         Traceback (most recent call last)",
      "\u001b[1;32mc:\\Users\\USER\\Desktop\\이소현\\EEG\\B2X_2nd_Year_3rd_Pilot_Customizing\\python\\txt2mat.ipynb Cell 11\u001b[0m line \u001b[0;36m9\n\u001b[0;32m      <a href='vscode-notebook-cell:/c%3A/Users/USER/Desktop/%EC%9D%B4%EC%86%8C%ED%98%84/EEG/B2X_2nd_Year_3rd_Pilot_Customizing/python/txt2mat.ipynb#X13sZmlsZQ%3D%3D?line=5'>6</a>\u001b[0m subject_txt_path \u001b[39m=\u001b[39m default_path \u001b[39m+\u001b[39m \u001b[39m'\u001b[39m\u001b[39m\\\\\u001b[39;00m\u001b[39m'\u001b[39m \u001b[39m+\u001b[39m sub_list[sub_num] \u001b[39m+\u001b[39m \u001b[39m'\u001b[39m\u001b[39m\\\\\u001b[39;00m\u001b[39mEEG\u001b[39m\u001b[39m'\u001b[39m\n\u001b[0;32m      <a href='vscode-notebook-cell:/c%3A/Users/USER/Desktop/%EC%9D%B4%EC%86%8C%ED%98%84/EEG/B2X_2nd_Year_3rd_Pilot_Customizing/python/txt2mat.ipynb#X13sZmlsZQ%3D%3D?line=7'>8</a>\u001b[0m \u001b[39m# txt 경로에서, 확장자명이 txt인 파일들만 선택\u001b[39;00m\n\u001b[1;32m----> <a href='vscode-notebook-cell:/c%3A/Users/USER/Desktop/%EC%9D%B4%EC%86%8C%ED%98%84/EEG/B2X_2nd_Year_3rd_Pilot_Customizing/python/txt2mat.ipynb#X13sZmlsZQ%3D%3D?line=8'>9</a>\u001b[0m txt_list \u001b[39m=\u001b[39m SelectTxtFiles(os\u001b[39m.\u001b[39;49mlistdir(subject_txt_path))\n\u001b[0;32m     <a href='vscode-notebook-cell:/c%3A/Users/USER/Desktop/%EC%9D%B4%EC%86%8C%ED%98%84/EEG/B2X_2nd_Year_3rd_Pilot_Customizing/python/txt2mat.ipynb#X13sZmlsZQ%3D%3D?line=9'>10</a>\u001b[0m \u001b[39mprint\u001b[39m(\u001b[39m'\u001b[39m\u001b[39m\\n\u001b[39;00m\u001b[39mData Extraction Start ...\u001b[39m\u001b[39m'\u001b[39m)\n\u001b[0;32m     <a href='vscode-notebook-cell:/c%3A/Users/USER/Desktop/%EC%9D%B4%EC%86%8C%ED%98%84/EEG/B2X_2nd_Year_3rd_Pilot_Customizing/python/txt2mat.ipynb#X13sZmlsZQ%3D%3D?line=11'>12</a>\u001b[0m \u001b[39m# 5개의 txt 파일에 대해서 각각 data를 추출하고, mat파일로 저장\u001b[39;00m\n",
      "\u001b[1;31mFileNotFoundError\u001b[0m: [WinError 3] 지정된 경로를 찾을 수 없습니다: 'C:/Users/USER/Desktop/converted_B2X2\\\\20211230_CJK\\\\EEG'"
     ]
    }
   ],
   "source": [
    "for sub_num in tqdm(range(len(choose_sub)), desc='Total Processing'):\n",
    "    \n",
    "    print('------------------------------------')\n",
    "    print(sub_list[sub_num])\n",
    "    # 현재 sub_num에 해당하는 subject의 txt 파일이 존재하는 경로\n",
    "    subject_txt_path = default_path + '/' + sub_list[sub_num] \n",
    "    \n",
    "    # txt 경로에서, 확장자명이 txt인 파일들만 선택\n",
    "    txt_list = SelectTxtFiles(os.listdir(subject_txt_path))\n",
    "    print('\\nData Extraction Start ...')\n",
    "    \n",
    "    # 5개의 txt 파일에 대해서 각각 data를 추출하고, mat파일로 저장\n",
    "    for stim_num in tqdm(range(len(txt_list)), desc=sub_list[sub_num] + ' Processing'):\n",
    "        print('{}th txt'.format(stim_num + 1), end='.. ')\n",
    "        \n",
    "        temp_data = TxtRead(subject_txt_path, txt_list[stim_num])\n",
    "        header = temp_data[:3] # header 성분\n",
    "        non_header = temp_data[3:] # non-header --> EEG data\n",
    "    \n",
    "        # non_header의 마지막 row에는 빈 배열이 존재하기 때문에, numpy로 전환하면서 오류가 발생함\n",
    "        # --> 마지막 row를 삭제\n",
    "        if len(non_header[len(non_header)-1]) == 0:\n",
    "            del non_header[len(non_header)-1] # list의 요소 제거 방법인 del을 사용\n",
    "            # non_header list를 numpy array로 변환\n",
    "            non_header = np.array(non_header, dtype=float)\n",
    "        non_header_df = pd.DataFrame(non_header)\n",
    "        \n",
    "        # useless channel 제거\n",
    "        # ch1 : time 정보 --> 제거\n",
    "        # ch2 : noise --> 제거\n",
    "        # ch34 : flag --> 제거\n",
    "        # 총 34개 채널 중, 3개 채널을 제거하면 31 채널이 남는다\n",
    "        if non_header_df.shape[1] == 34:\n",
    "            # ch34가 존재하는 경우\n",
    "            non_header_df = non_header_df.drop([0, 1, 33], axis=1)\n",
    "        else:\n",
    "            # ch34가 존재하지 않으면, ch1과 ch2만 index 0,1을 이용하여 제거            \n",
    "            non_header_df = non_header_df.drop([0, 1], axis=1)\n",
    "            \n",
    "        print(\" Shape: {}, Size: {}\".format(non_header_df.shape, non_header_df.size), end=' --> Save...')\n",
    "        \n",
    "        data = np.array(non_header_df)\n",
    "        save_as = os.path.join(subject_txt_path, txt_list[stim_num][:-3]+'mat')\n",
    "        spio.savemat(save_as, mdict={'data': data})\n",
    "        print(\"done !\")"
   ]
  }
 ],
 "metadata": {
  "jupytext": {
   "encoding": "# -*- coding: utf-8 -*-",
   "formats": "ipynb,py:light"
  },
  "kernelspec": {
   "display_name": "Python 3 (ipykernel)",
   "language": "python",
   "name": "python3"
  },
  "language_info": {
   "codemirror_mode": {
    "name": "ipython",
    "version": 3
   },
   "file_extension": ".py",
   "mimetype": "text/x-python",
   "name": "python",
   "nbconvert_exporter": "python",
   "pygments_lexer": "ipython3",
   "version": "3.11.5"
  }
 },
 "nbformat": 4,
 "nbformat_minor": 5
}
