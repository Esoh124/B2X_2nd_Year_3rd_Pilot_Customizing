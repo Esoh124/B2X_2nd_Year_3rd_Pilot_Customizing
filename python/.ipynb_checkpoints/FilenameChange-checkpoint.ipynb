{
 "cells": [
  {
   "cell_type": "code",
   "execution_count": 1,
   "id": "cd6f3ffc",
   "metadata": {},
   "outputs": [],
   "source": [
    "import os"
   ]
  },
  {
   "cell_type": "code",
   "execution_count": 2,
   "id": "c5c871ba",
   "metadata": {},
   "outputs": [],
   "source": [
    "path_total_subjects= 'E:\\\\B2X\\\\2차년도\\\\03_pilot\\\\biopac_mat'"
   ]
  },
  {
   "cell_type": "code",
   "execution_count": 3,
   "id": "2ec712c3",
   "metadata": {},
   "outputs": [
    {
     "name": "stdout",
     "output_type": "stream",
     "text": [
      "['01_KDH', '02_HHB', '03_PSR', '04_CJK', '05_CKM', '06_KDH', '07_PSR', '08_HHB', '09_CKM', '10_CSJ', '11_KMS', '12_CJK', '13_CSJ', '14_KMS', '15_LJH', '16_PBJ', '17_PBJ', '18_SYH', '19_SYH', '20_LJH']\n"
     ]
    }
   ],
   "source": [
    "sub_list = os.listdir(path_total_subjects)\n",
    "print(sub_list)"
   ]
  },
  {
   "cell_type": "code",
   "execution_count": 4,
   "id": "94a314b4",
   "metadata": {},
   "outputs": [],
   "source": [
    "choose_sub = range(len(sub_list))\n",
    "# choose_sub = [1]"
   ]
  },
  {
   "cell_type": "code",
   "execution_count": 9,
   "id": "651336de",
   "metadata": {},
   "outputs": [
    {
     "name": "stdout",
     "output_type": "stream",
     "text": [
      "Selected Subject: 01_KDH\n",
      "Selected Subject: 02_HHB\n",
      "Selected Subject: 03_PSR\n",
      "Selected Subject: 04_CJK\n",
      "Selected Subject: 05_CKM\n",
      "Selected Subject: 06_KDH\n",
      "Selected Subject: 07_PSR\n",
      "Selected Subject: 08_HHB\n",
      "Selected Subject: 09_CKM\n",
      "Selected Subject: 10_CSJ\n",
      "Selected Subject: 11_KMS\n",
      "Selected Subject: 12_CJK\n",
      "Selected Subject: 13_CSJ\n",
      "Selected Subject: 14_KMS\n",
      "Selected Subject: 15_LJH\n",
      "Selected Subject: 16_PBJ\n",
      "Selected Subject: 17_PBJ\n",
      "Selected Subject: 18_SYH\n",
      "Selected Subject: 19_SYH\n",
      "Selected Subject: 20_LJH\n"
     ]
    }
   ],
   "source": [
    "for sub_i in choose_sub:\n",
    "    path_each_subject = os.path.join(path_total_subjects, sub_list[sub_i])\n",
    "    print('Selected Subject: {}'.format(sub_list[sub_i]))\n",
    "    f_list = os.listdir(path_each_subject)\n",
    "    for f_list_i in range(len(f_list)):\n",
    "        if 'Stim' in f_list[f_list_i]:\n",
    "            pre_name = os.path.join(path_each_subject, f_list[f_list_i])\n",
    "            new_name = os.path.join(path_each_subject, f_list[f_list_i][5:])\n",
    "            os.rename(pre_name, new_name)\n",
    "            print(f_list[f_list_i][5:], end=' ')        \n",
    "            print('')\n",
    "    "
   ]
  }
 ],
 "metadata": {
  "kernelspec": {
   "display_name": "Python 3 (ipykernel)",
   "language": "python",
   "name": "python3"
  },
  "language_info": {
   "codemirror_mode": {
    "name": "ipython",
    "version": 3
   },
   "file_extension": ".py",
   "mimetype": "text/x-python",
   "name": "python",
   "nbconvert_exporter": "python",
   "pygments_lexer": "ipython3",
   "version": "3.9.7"
  }
 },
 "nbformat": 4,
 "nbformat_minor": 5
}
