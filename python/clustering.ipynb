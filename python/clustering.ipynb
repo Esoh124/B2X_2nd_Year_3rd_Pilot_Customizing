{
 "cells": [
  {
   "cell_type": "code",
   "execution_count": 3,
   "metadata": {},
   "outputs": [],
   "source": [
    "#import\n",
    "import scipy.io"
   ]
  },
  {
   "cell_type": "code",
   "execution_count": 9,
   "metadata": {},
   "outputs": [],
   "source": [
    "#Data load\n",
    "#EEG - Change.mat       C:\\Users\\USER\\Desktop\\이소현\\EEG\\B2X_2nd_Year_3rd_Pilot_Customizing\\matlab\n",
    "#ECG - ECG_feature_~    C:\\Users\\USER\\Desktop\\이소현\\HRV\\EDA\\ECG_EDA\n",
    "EEG_data_path = 'C:\\\\Users\\\\USER\\\\Desktop\\\\이소현\\\\EEG\\\\B2X_2nd_Year_3rd_Pilot_Customizing\\\\matlab\\\\Change.mat'\n",
    "ECG_data_path_S0 = 'C:\\\\Users\\\\USER\\\\Desktop\\\\이소현\\\\HRV\\\\EDA\\\\ECG_EDA\\\\ECG_feature_S0.mat'\n",
    "ECG_data_path_N020 = 'C:\\\\Users\\\\USER\\\\Desktop\\\\이소현\\\\HRV\\\\EDA\\\\ECG_EDA\\\\ECG_feature_N020.mat'\n",
    "\n",
    "EEG_data = scipy.io.loadmat(EEG_data_path)"
   ]
  },
  {
   "cell_type": "code",
   "execution_count": null,
   "metadata": {},
   "outputs": [],
   "source": []
  }
 ],
 "metadata": {
  "kernelspec": {
   "display_name": "eeg",
   "language": "python",
   "name": "python3"
  },
  "language_info": {
   "codemirror_mode": {
    "name": "ipython",
    "version": 3
   },
   "file_extension": ".py",
   "mimetype": "text/x-python",
   "name": "python",
   "nbconvert_exporter": "python",
   "pygments_lexer": "ipython3",
   "version": "3.11.5"
  }
 },
 "nbformat": 4,
 "nbformat_minor": 2
}
